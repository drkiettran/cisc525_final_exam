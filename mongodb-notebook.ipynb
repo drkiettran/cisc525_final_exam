{
 "cells": [
  {
   "cell_type": "markdown",
   "metadata": {},
   "source": [
    "# CISC 525 Summer 2021 - Final Exam\n",
    "You may want to revisit lecture from Mondule 9 on NoSQL database.\n",
    "I provided instructions on installing necessary software package\n",
    "to work with MongoDB using Python 3.\n"
   ]
  },
  {
   "cell_type": "code",
   "execution_count": 1,
   "metadata": {},
   "outputs": [],
   "source": [
    "from pymongo import MongoClient\n",
    "#include pprint for readabillity of the \n",
    "from pprint import pprint  # pretty print\n",
    "from random import randint\n",
    "\n",
    "#change the MongoClient connection string to your MongoDB database instance\n",
    "client = MongoClient(port=27017)\n",
    "airline = client.airline"
   ]
  },
  {
   "cell_type": "markdown",
   "metadata": {},
   "source": [
    "## Importing airline performance data\n",
    "You **`must`** fix the content of line `1253` in the `airports.csv` file\n",
    "from: \n",
    "\n",
    "```\n",
    "\"DBN\",\"W. H. \\\"Bud\\\" Barron \",\"Dublin\",\"GA\",\"USA\",32.56445806,-82.98525556\n",
    "```\n",
    "\n",
    "to \n",
    "\n",
    "```\n",
    "\"DBN\",\"W. H. Bud Barron \",\"Dublin\",\"GA\",\"USA\",32.56445806,-82.98525556\n",
    "```\n",
    "\n",
    "Open a terminal from your VM. Run the follow commands to import\n",
    "airline performance data into your mongodb database.\n",
    "\n",
    "```bash\n",
    "cd ~/cisc_525/cisc-525-util/data/airline\n",
    "mongoimport --db airline --collection planes --type csv --headerline --file ./plane-data.csv\n",
    "mongoimport --db airline --collection carriers --type csv --headerline --file ./carriers.csv\n",
    "mongoimport --db airline --collection airports --type csv --headerline --file ./airports.csv\n",
    "```\n",
    "\n",
    "You should see the output as follows:\n",
    "\n",
    "```shelscript\n",
    "kiet@student-VirtualBox:~/cisc_525/cisc-525-util/data/airline$ mongoimport --db airline --collection planes --type csv --headerline --file ./plane-data.csv\n",
    "2020-04-11T15:13:03.821-0400\tconnected to: localhost\n",
    "2020-04-11T15:13:03.881-0400\timported 5029 documents\n",
    "kiet@student-VirtualBox:~/cisc_525/cisc-525-util/data/airline$ mongoimport --db airline --collection carriers --type csv --headerline --file ./carriers.csv\n",
    "2020-04-11T15:13:03.889-0400\tconnected to: localhost\n",
    "2020-04-11T15:13:03.906-0400\timported 1491 documents\n",
    "kiet@student-VirtualBox:~/cisc_525/cisc-525-util/data/airline$ mongoimport --db airline --collection airports --type csv --headerline --file ./airports.csv\n",
    "2020-04-11T15:48:34.888-0400\tconnected to: localhost\n",
    "2020-04-11T15:48:34.931-0400\timported 3376 documents\n",
    "```\n",
    "Ignore the error message on extraneous column for now. \n",
    "\n",
    "Verify that you import your data correct as follows:"
   ]
  },
  {
   "cell_type": "markdown",
   "metadata": {},
   "source": [
    "## Verify imported data"
   ]
  },
  {
   "cell_type": "code",
   "execution_count": 2,
   "metadata": {},
   "outputs": [
    {
     "name": "stdout",
     "output_type": "stream",
     "text": [
      "5029 plane types\n",
      "1491 carriers\n",
      "1000 airports\n"
     ]
    }
   ],
   "source": [
    "# Verify the counts ...\n",
    "print(airline.planes.find().collection.estimated_document_count(), 'plane types')\n",
    "print(airline.carriers.find().collection.estimated_document_count(), 'carriers')\n",
    "print(airline.airports.find().collection.estimated_document_count(), 'airports')"
   ]
  },
  {
   "cell_type": "markdown",
   "metadata": {},
   "source": [
    "## What are the attributes/fields for the airports, carriers, and planes collections?\n",
    "### Plane data type:\n",
    "- tailnum\n",
    "- type\n",
    "- manufacturer\n",
    "- issue_date\n",
    "- model\n",
    "- status\n",
    "- aircraft_type\n",
    "- engine_type\n",
    "- year\n",
    "\n",
    "### Carrier:\n",
    "- Code\n",
    "- Description\n",
    "\n",
    "### Airport:\n",
    "- iata\n",
    "- airport\n",
    "- city\n",
    "- state\n",
    "- country\n",
    "- lat\n",
    "- long"
   ]
  },
  {
   "cell_type": "code",
   "execution_count": 3,
   "metadata": {},
   "outputs": [
    {
     "data": {
      "text/plain": [
       "{'_id': ObjectId('605922803e3c6ab330d35e29'),\n",
       " 'tailnum': 'N11119',\n",
       " 'type': 'Corporation',\n",
       " 'manufacturer': 'EMBRAER',\n",
       " 'issue_date': '01/08/2003',\n",
       " 'model': 'EMB-145XR',\n",
       " 'status': 'Valid',\n",
       " 'aircraft_type': 'Fixed Wing Multi-Engine',\n",
       " 'engine_type': 'Turbo-Fan',\n",
       " 'year': 2002}"
      ]
     },
     "execution_count": 3,
     "metadata": {},
     "output_type": "execute_result"
    }
   ],
   "source": [
    "airline.planes.find()[50]"
   ]
  },
  {
   "cell_type": "code",
   "execution_count": 4,
   "metadata": {},
   "outputs": [
    {
     "data": {
      "text/plain": [
       "{'_id': ObjectId('605922803e3c6ab330d371a6'),\n",
       " 'Code': '02Q',\n",
       " 'Description': 'Titan Airways'}"
      ]
     },
     "execution_count": 4,
     "metadata": {},
     "output_type": "execute_result"
    }
   ],
   "source": [
    "airline.carriers.find()[0]"
   ]
  },
  {
   "cell_type": "code",
   "execution_count": 5,
   "metadata": {},
   "outputs": [
    {
     "data": {
      "text/plain": [
       "{'_id': ObjectId('605922823e3c6ab330d37780'),\n",
       " 'iata': '00M',\n",
       " 'airport': 'Thigpen ',\n",
       " 'city': 'Bay Springs',\n",
       " 'state': 'MS',\n",
       " 'country': 'USA',\n",
       " 'lat': 31.95376472,\n",
       " 'long': -89.23450472}"
      ]
     },
     "execution_count": 5,
     "metadata": {},
     "output_type": "execute_result"
    }
   ],
   "source": [
    "airline.airports.find()[0]"
   ]
  },
  {
   "cell_type": "markdown",
   "metadata": {},
   "source": [
    "## How many countries are in the airports collection\n",
    "Attribute `country` "
   ]
  },
  {
   "cell_type": "code",
   "execution_count": 6,
   "metadata": {},
   "outputs": [
    {
     "name": "stdout",
     "output_type": "stream",
     "text": [
      "1 distinct countries\n"
     ]
    }
   ],
   "source": [
    "\n",
    "airports = airline.airports.distinct('country')\n",
    "print(len(airports), 'distinct countries')\n",
    "# for airport in airports:\n",
    "#     print(airport)"
   ]
  },
  {
   "cell_type": "markdown",
   "metadata": {},
   "source": [
    "## How many plane manufacters are in the planes collection?\n",
    "Attribute `manufacturer`"
   ]
  },
  {
   "cell_type": "code",
   "execution_count": 7,
   "metadata": {},
   "outputs": [
    {
     "name": "stdout",
     "output_type": "stream",
     "text": [
      "39 manufacturers of airplanes\n"
     ]
    }
   ],
   "source": [
    "manufacturers = airline.planes.distinct('manufacturer')\n",
    "print(len(manufacturers), 'manufacturers of airplanes')\n",
    "# manufacturers\n",
    "# for manufacturer in manufacturers:\n",
    "#     print(manufacturer)"
   ]
  },
  {
   "cell_type": "markdown",
   "metadata": {},
   "source": [
    "## How many states are in the airports collections\n",
    "Attribute `state`"
   ]
  },
  {
   "cell_type": "code",
   "execution_count": 8,
   "metadata": {},
   "outputs": [
    {
     "name": "stdout",
     "output_type": "stream",
     "text": [
      "51 states and territorries\n"
     ]
    }
   ],
   "source": [
    "\n",
    "states_and_territorries = airline.airports.distinct('state')\n",
    "print(len(states_and_territorries), 'states and territorries')\n",
    "# for state in states_and_territorries:\n",
    "#     print(state)\n"
   ]
  },
  {
   "cell_type": "markdown",
   "metadata": {},
   "source": [
    "## How many airports are in the state of HI?"
   ]
  },
  {
   "cell_type": "code",
   "execution_count": 9,
   "metadata": {},
   "outputs": [
    {
     "name": "stdout",
     "output_type": "stream",
     "text": [
      "** 0 airports in the State of Hawaii\n"
     ]
    }
   ],
   "source": [
    "hi_airports = list(airline.airports.find({'state':'HI'}))\n",
    "# for hi_airport in hi_airports:\n",
    "#     print(hi_airport['airport'])\n",
    "print('**', len(hi_airports), 'airports in the State of Hawaii')    "
   ]
  },
  {
   "cell_type": "markdown",
   "metadata": {},
   "source": [
    "## Assignment\n",
    "Answer the following questions:\n",
    "\n",
    "1. How many plane types (use `type`) are there?\n",
    "2. How many planes `BOEING` made over the years?\n",
    "3. How many aircraft types (use `aircraft_type`) are there?\n",
    "4. How many types of planes `CESSNA` (use `manufacturer` and `aircaft_type`, made over the years?\n",
    "5. List aircraft types made by each manufacturer\n",
    "6. List number of planes make by each manufacturer\n",
    "7. Which manufacturer makes the `least` planes?\n",
    "8. Which manufacturer makes the `most` planes?\n",
    "9. Which state has the `most` airports?\n",
    "10. Which state has the `least` airports?\n",
    "11. Which state has the `second` largest number of airports?\n",
    "12. List all the years in the `planes` collection. Exclude (0 and 'None')\n",
    "13. Which year produced the `most` planes?\n",
    "14. Which year produced the `least` planes?\n",
    "15. List number of planes by aircraft types\n",
    "16. List engine types made by each manufacturer\n",
    "17. List planes made by aircraft types\n",
    "18. List planes made by engine type"
   ]
  },
  {
   "cell_type": "code",
   "execution_count": null,
   "metadata": {},
   "outputs": [],
   "source": []
  }
 ],
 "metadata": {
  "kernelspec": {
   "display_name": "Python 3",
   "language": "python",
   "name": "python3"
  },
  "language_info": {
   "codemirror_mode": {
    "name": "ipython",
    "version": 3
   },
   "file_extension": ".py",
   "mimetype": "text/x-python",
   "name": "python",
   "nbconvert_exporter": "python",
   "pygments_lexer": "ipython3",
   "version": "3.6.9"
  }
 },
 "nbformat": 4,
 "nbformat_minor": 4
}
